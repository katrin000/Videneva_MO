{
 "cells": [
  {
   "cell_type": "markdown",
   "id": "176ad0b3",
   "metadata": {},
   "source": [
    "# 1)Чтение данных."
   ]
  },
  {
   "cell_type": "code",
   "execution_count": 1,
   "id": "e2959f01",
   "metadata": {},
   "outputs": [],
   "source": [
    "import matplotlib.pyplot as plt\n",
    "%matplotlib inline\n",
    "import pandas as pd\n",
    "from sklearn.preprocessing import StandardScaler\n",
    "from sklearn.cluster import KMeans\n",
    "from sklearn.cluster import DBSCAN\n",
    "from sklearn.cluster import AgglomerativeClustering"
   ]
  },
  {
   "cell_type": "code",
   "execution_count": 3,
   "id": "0a7e56f6",
   "metadata": {},
   "outputs": [
    {
     "name": "stdout",
     "output_type": "stream",
     "text": [
      "<class 'pandas.core.frame.DataFrame'>\n",
      "RangeIndex: 20000 entries, 0 to 19999\n",
      "Data columns (total 33 columns):\n",
      " #   Column                      Non-Null Count  Dtype  \n",
      "---  ------                      --------------  -----  \n",
      " 0   Age                         20000 non-null  int64  \n",
      " 1   AnnualIncome                20000 non-null  int64  \n",
      " 2   CreditScore                 20000 non-null  int64  \n",
      " 3   EmploymentStatus            20000 non-null  object \n",
      " 4   EducationLevel              20000 non-null  object \n",
      " 5   Experience                  20000 non-null  int64  \n",
      " 6   LoanAmount                  20000 non-null  int64  \n",
      " 7   LoanDuration                20000 non-null  int64  \n",
      " 8   MaritalStatus               20000 non-null  object \n",
      " 9   NumberOfDependents          20000 non-null  int64  \n",
      " 10  HomeOwnershipStatus         20000 non-null  object \n",
      " 11  MonthlyDebtPayments         20000 non-null  int64  \n",
      " 12  CreditCardUtilizationRate   20000 non-null  float64\n",
      " 13  NumberOfOpenCreditLines     20000 non-null  int64  \n",
      " 14  NumberOfCreditInquiries     20000 non-null  int64  \n",
      " 15  DebtToIncomeRatio           20000 non-null  float64\n",
      " 16  BankruptcyHistory           20000 non-null  int64  \n",
      " 17  LoanPurpose                 20000 non-null  object \n",
      " 18  PreviousLoanDefaults        20000 non-null  int64  \n",
      " 19  PaymentHistory              20000 non-null  int64  \n",
      " 20  LengthOfCreditHistory       20000 non-null  int64  \n",
      " 21  SavingsAccountBalance       20000 non-null  int64  \n",
      " 22  CheckingAccountBalance      20000 non-null  int64  \n",
      " 23  TotalAssets                 20000 non-null  int64  \n",
      " 24  TotalLiabilities            20000 non-null  int64  \n",
      " 25  MonthlyIncome               20000 non-null  float64\n",
      " 26  UtilityBillsPaymentHistory  20000 non-null  float64\n",
      " 27  JobTenure                   20000 non-null  int64  \n",
      " 28  NetWorth                    20000 non-null  int64  \n",
      " 29  BaseInterestRate            20000 non-null  float64\n",
      " 30  InterestRate                20000 non-null  float64\n",
      " 31  MonthlyLoanPayment          20000 non-null  float64\n",
      " 32  TotalDebtToIncomeRatio      20000 non-null  float64\n",
      "dtypes: float64(8), int64(20), object(5)\n",
      "memory usage: 5.0+ MB\n"
     ]
    }
   ],
   "source": [
    "raw_data = pd.read_csv(\"C:/Users/Lenovo/Downloads/Loan.csv\")\n",
    "true_labels = (raw_data['LoanApproved']).to_numpy() # Используем признак для классификации для проверки кластеризации\n",
    "raw_data = raw_data.drop(['ApplicationDate', 'LoanApproved', 'RiskScore'], axis=1) # Удаление даты, поскольку она не имеет смыслового влияния на задачу, но добавляет лишнюю сложность, а также признаков для классификации и регрессии\n",
    "\n",
    "numeric_feat = []\n",
    "for feat in raw_data.keys():\n",
    "  if ((raw_data.dtypes[feat] == 'float64' or raw_data.dtypes[feat] == 'int64') and feat != 'LoanApproved'):\n",
    "      numeric_feat.append(feat)\n",
    "\n",
    "raw_data.info()"
   ]
  },
  {
   "cell_type": "markdown",
   "id": "a6b3eca7",
   "metadata": {},
   "source": [
    "# 2)Обработка данных."
   ]
  },
  {
   "cell_type": "code",
   "execution_count": 6,
   "id": "97b103da",
   "metadata": {},
   "outputs": [],
   "source": [
    "for_use_data = pd.get_dummies(raw_data, columns=['EmploymentStatus', 'EducationLevel', 'MaritalStatus', 'HomeOwnershipStatus', 'LoanPurpose'], drop_first=True)\n",
    "\n",
    "scaler = StandardScaler()\n",
    "for_use_data[numeric_feat] = scaler.fit_transform(for_use_data[numeric_feat])\n",
    "for_use_data = for_use_data.astype(float)"
   ]
  },
  {
   "cell_type": "markdown",
   "id": "2647e84c",
   "metadata": {},
   "source": [
    "# 3)KMeans."
   ]
  },
  {
   "cell_type": "code",
   "execution_count": 11,
   "id": "14b1c035",
   "metadata": {},
   "outputs": [
    {
     "name": "stdout",
     "output_type": "stream",
     "text": [
      "Обнаружено 2 кластера(ов).\n",
      "12985 элементов имеют корректные предсказанные метки. Это означает 64.925% корректность.\n"
     ]
    }
   ],
   "source": [
    "clustering = KMeans(n_clusters=2, random_state=0, n_init=10, tol=1e-8).fit(for_use_data)\n",
    "\n",
    "print(f\"Обнаружено {len(set(clustering.labels_))} кластера(ов).\")\n",
    "correct = 0\n",
    "class_correctness = {}\n",
    "for i in range(len(clustering.labels_)):\n",
    "    if (clustering.labels_[i] == true_labels[i]):\n",
    "        correct += 1\n",
    "        class_correctness[clustering.labels_[i]] = (1) if not (clustering.labels_[i] in class_correctness.keys()) else (class_correctness[clustering.labels_[i]] + 1)\n",
    "print(f\"{correct} элементов имеют корректные предсказанные метки. Это означает {correct/len(true_labels)*100}% корректность.\")\n",
    "#print(class_correctness)"
   ]
  },
  {
   "cell_type": "markdown",
   "id": "04bebf7b",
   "metadata": {},
   "source": [
    "# 4)DBSCAN."
   ]
  },
  {
   "cell_type": "code",
   "execution_count": 9,
   "id": "4a7ea1bd",
   "metadata": {},
   "outputs": [
    {
     "name": "stdout",
     "output_type": "stream",
     "text": [
      "Обнаружено 2 кластера(ов).\n",
      "13972 элементов имеют корректные предсказанные метки. Это означает 69.86% корректность.\n"
     ]
    }
   ],
   "source": [
    "clustering = DBSCAN(eps=5.01, min_samples=8).fit(for_use_data)\n",
    "\n",
    "print(f\"Обнаружено {len(set(clustering.labels_)) - (1) if ((-1) in clustering.labels_) else (0)} кластера(ов).\") # -1 - особая метка для \"шума\"\n",
    "correct = 0\n",
    "class_correctness = {}\n",
    "for i in range(len(clustering.labels_)):\n",
    "    if (clustering.labels_[i] == true_labels[i]):\n",
    "        correct += 1\n",
    "        class_correctness[clustering.labels_[i]] = (1) if not (clustering.labels_[i] in class_correctness.keys()) else (class_correctness[clustering.labels_[i]] + 1)\n",
    "print(f\"{correct} элементов имеют корректные предсказанные метки. Это означает {correct/len(true_labels)*100}% корректность.\")\n",
    "#print(class_correctness)"
   ]
  },
  {
   "cell_type": "markdown",
   "id": "f7b31964",
   "metadata": {},
   "source": [
    "# 5)AgglomerativeClustering."
   ]
  },
  {
   "cell_type": "code",
   "execution_count": 10,
   "id": "06bf1ea0",
   "metadata": {},
   "outputs": [
    {
     "name": "stdout",
     "output_type": "stream",
     "text": [
      "Обнаружено 2 кластера(ов).\n",
      "14401 элементов имеют корректные предсказанные метки. Это означает 72.005% корректность.\n"
     ]
    }
   ],
   "source": [
    "clustering = AgglomerativeClustering().fit(for_use_data)\n",
    "\n",
    "print(f\"Обнаружено {len(set(clustering.labels_))} кластера(ов).\")\n",
    "correct = 0\n",
    "class_correctness = {}\n",
    "for i in range(len(clustering.labels_)):\n",
    "    if (clustering.labels_[i] == true_labels[i]):\n",
    "        correct += 1\n",
    "        class_correctness[clustering.labels_[i]] = (1) if not (clustering.labels_[i] in class_correctness.keys()) else (class_correctness[clustering.labels_[i]] + 1)\n",
    "print(f\"{correct} элементов имеют корректные предсказанные метки. Это означает {correct/len(true_labels)*100}% корректность.\")\n",
    "#print(class_correctness)"
   ]
  },
  {
   "cell_type": "markdown",
   "id": "6153d00b",
   "metadata": {},
   "source": [
    "# 6)Сравнение методов."
   ]
  },
  {
   "cell_type": "code",
   "execution_count": 13,
   "id": "c0c4a168",
   "metadata": {},
   "outputs": [
    {
     "name": "stdout",
     "output_type": "stream",
     "text": [
      "                     Метод  Корректность в %\n",
      "0                   KMeans            64.925\n",
      "1                   DBSCAN            69.860\n",
      "2  AgglomerativeClustering            72.005\n"
     ]
    }
   ],
   "source": [
    "table1 = [[\"KMeans\", 64.925],\n",
    "         [\"DBSCAN\", 69.86],\n",
    "         [\"AgglomerativeClustering\", 72.005]]\n",
    "df = pd.DataFrame(table1, columns=[\"Метод\", \"Корректность в %\"])\n",
    "print(df)"
   ]
  },
  {
   "cell_type": "markdown",
   "id": "0b88725c",
   "metadata": {},
   "source": [
    "# 7)Вывод"
   ]
  },
  {
   "cell_type": "markdown",
   "id": "c1e1b02c",
   "metadata": {},
   "source": [
    "Лучший результат получился с использованием метода кластеризации AgglomerativeClustering"
   ]
  },
  {
   "cell_type": "code",
   "execution_count": null,
   "id": "ce9ed75c",
   "metadata": {},
   "outputs": [],
   "source": []
  }
 ],
 "metadata": {
  "kernelspec": {
   "display_name": "Python 3 (ipykernel)",
   "language": "python",
   "name": "python3"
  },
  "language_info": {
   "codemirror_mode": {
    "name": "ipython",
    "version": 3
   },
   "file_extension": ".py",
   "mimetype": "text/x-python",
   "name": "python",
   "nbconvert_exporter": "python",
   "pygments_lexer": "ipython3",
   "version": "3.11.5"
  }
 },
 "nbformat": 4,
 "nbformat_minor": 5
}
